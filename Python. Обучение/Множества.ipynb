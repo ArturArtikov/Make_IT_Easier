{
  "nbformat": 4,
  "nbformat_minor": 0,
  "metadata": {
    "colab": {
      "provenance": []
    },
    "kernelspec": {
      "name": "python3",
      "display_name": "Python 3"
    },
    "language_info": {
      "name": "python"
    }
  },
  "cells": [
    {
      "cell_type": "code",
      "execution_count": null,
      "metadata": {
        "colab": {
          "base_uri": "https://localhost:8080/"
        },
        "id": "07u_rBic76Qn",
        "outputId": "b93b8dd3-5636-419b-cadc-5352ef601d87"
      },
      "outputs": [
        {
          "output_type": "stream",
          "name": "stdout",
          "text": [
            "['hello', 'good buy', 'hi', 'hello', 'hi', 'hello']\n"
          ]
        }
      ],
      "source": [
        "elements = ['hello', 'good buy', 'hi', 'hello', 'hi', 'hello']\n",
        "print(elements)"
      ]
    },
    {
      "cell_type": "code",
      "source": [
        "elements = set(elements) # int(), float(), list(), str(), set()\n",
        "print(elements)"
      ],
      "metadata": {
        "colab": {
          "base_uri": "https://localhost:8080/"
        },
        "id": "bunRdQa_8VRK",
        "outputId": "684eebc0-4979-430b-a68e-d3d9a07da621"
      },
      "execution_count": null,
      "outputs": [
        {
          "output_type": "stream",
          "name": "stdout",
          "text": [
            "{'hi', 'hello', 'good buy'}\n"
          ]
        }
      ]
    },
    {
      "cell_type": "code",
      "source": [
        "a = set()\n",
        "b = set()\n",
        "\n",
        "print(type(a), type(b))"
      ],
      "metadata": {
        "colab": {
          "base_uri": "https://localhost:8080/"
        },
        "id": "25Xz0CsL8miu",
        "outputId": "89acd09f-acb7-4d5d-947c-75bc39ecce6b"
      },
      "execution_count": null,
      "outputs": [
        {
          "output_type": "stream",
          "name": "stdout",
          "text": [
            "<class 'set'> <class 'set'>\n"
          ]
        }
      ]
    },
    {
      "cell_type": "code",
      "source": [
        "a.add(1)\n",
        "print(a)\n",
        "\n",
        "a.add(2)\n",
        "print(a)\n",
        "\n",
        "a.add(3)\n",
        "print(a)\n",
        "\n",
        "a.add(1)\n",
        "print(a)"
      ],
      "metadata": {
        "colab": {
          "base_uri": "https://localhost:8080/"
        },
        "id": "4id9nTSJ8zE3",
        "outputId": "dd222809-65e3-40fb-9a66-857d6d0edd29"
      },
      "execution_count": null,
      "outputs": [
        {
          "output_type": "stream",
          "name": "stdout",
          "text": [
            "{1}\n",
            "{1, 2}\n",
            "{1, 2, 3}\n",
            "{1, 2, 3}\n"
          ]
        }
      ]
    },
    {
      "cell_type": "code",
      "source": [
        "b = set([i for i in range(1, 11)])\n",
        "print(b)"
      ],
      "metadata": {
        "colab": {
          "base_uri": "https://localhost:8080/"
        },
        "id": "zydRr3Fo9FOe",
        "outputId": "13a30faf-6bd2-4a6b-9814-186ce5fc0306"
      },
      "execution_count": null,
      "outputs": [
        {
          "output_type": "stream",
          "name": "stdout",
          "text": [
            "{1, 2, 3, 4, 5, 6, 7, 8, 9, 10}\n"
          ]
        }
      ]
    },
    {
      "cell_type": "code",
      "source": [
        "print(a)\n",
        "c = a.union(b)\n",
        "print(c)"
      ],
      "metadata": {
        "colab": {
          "base_uri": "https://localhost:8080/"
        },
        "id": "bPEn5dJ29XLV",
        "outputId": "b03a35bb-e6e3-4fa8-c296-4c7f16c55283"
      },
      "execution_count": null,
      "outputs": [
        {
          "output_type": "stream",
          "name": "stdout",
          "text": [
            "{1, 2, 3}\n",
            "{1, 2, 3, 4, 5, 6, 7, 8, 9, 10}\n"
          ]
        }
      ]
    },
    {
      "cell_type": "code",
      "source": [
        "b_minus_a = b.difference(a)\n",
        "a_minus_b = a.difference(b)\n",
        "\n",
        "print(b_minus_a, a_minus_b)"
      ],
      "metadata": {
        "colab": {
          "base_uri": "https://localhost:8080/"
        },
        "id": "qQiXA4Ln9u_H",
        "outputId": "23d6759d-3816-4e3a-d2b6-8367e61ed69c"
      },
      "execution_count": null,
      "outputs": [
        {
          "output_type": "stream",
          "name": "stdout",
          "text": [
            "{4, 5, 6, 7, 8, 9, 10} set()\n"
          ]
        }
      ]
    },
    {
      "cell_type": "code",
      "source": [
        "d = {1, 2, 5, 6, 9, 11, 23}\n",
        "e = {3, 4, 5, 6, 9, 13, 44}\n",
        "\n",
        "d_simmetric_e = d.symmetric_difference(e)\n",
        "print(d_simmetric_e)"
      ],
      "metadata": {
        "colab": {
          "base_uri": "https://localhost:8080/"
        },
        "id": "wwNqQxTn-T1Y",
        "outputId": "7e1d2f65-b439-4f60-c843-7d0f8240d6d0"
      },
      "execution_count": null,
      "outputs": [
        {
          "output_type": "stream",
          "name": "stdout",
          "text": [
            "{1, 2, 3, 4, 11, 13, 23, 44}\n"
          ]
        }
      ]
    },
    {
      "cell_type": "code",
      "source": [
        "d_inter_e = d.intersection(e)\n",
        "print(d_inter_e)"
      ],
      "metadata": {
        "colab": {
          "base_uri": "https://localhost:8080/"
        },
        "id": "pgc1I0Dc-4l3",
        "outputId": "ef209ef5-146d-41dc-de69-736531db571b"
      },
      "execution_count": null,
      "outputs": [
        {
          "output_type": "stream",
          "name": "stdout",
          "text": [
            "{9, 5, 6}\n"
          ]
        }
      ]
    },
    {
      "cell_type": "code",
      "source": [
        "f = e.copy()\n",
        "print(f)\n",
        "\n",
        "f.clear()\n",
        "print(f)"
      ],
      "metadata": {
        "colab": {
          "base_uri": "https://localhost:8080/"
        },
        "id": "k0t3scp8_dLK",
        "outputId": "1148bd0d-e151-49fd-e11d-48a8c52ec8a2"
      },
      "execution_count": null,
      "outputs": [
        {
          "output_type": "stream",
          "name": "stdout",
          "text": [
            "{3, 4, 5, 6, 9, 44, 13}\n",
            "set()\n"
          ]
        }
      ]
    },
    {
      "cell_type": "code",
      "source": [
        "print(a, b)"
      ],
      "metadata": {
        "colab": {
          "base_uri": "https://localhost:8080/"
        },
        "id": "ULt89M2K_zuc",
        "outputId": "15c733fa-6e93-4152-8547-4e83daf765aa"
      },
      "execution_count": null,
      "outputs": [
        {
          "output_type": "stream",
          "name": "stdout",
          "text": [
            "{1, 2, 3} {1, 2, 3, 4, 5, 6, 7, 8, 9, 10}\n"
          ]
        }
      ]
    },
    {
      "cell_type": "code",
      "source": [
        "a.update(b)\n",
        "print(a, b)"
      ],
      "metadata": {
        "colab": {
          "base_uri": "https://localhost:8080/"
        },
        "id": "5Z5zzsnd_2Uf",
        "outputId": "7c7c7ee3-525e-402b-d461-e8dfa958eb7e"
      },
      "execution_count": null,
      "outputs": [
        {
          "output_type": "stream",
          "name": "stdout",
          "text": [
            "{1, 2, 3, 4, 5, 6, 7, 8, 9, 10} {1, 2, 3, 4, 5, 6, 7, 8, 9, 10}\n"
          ]
        }
      ]
    },
    {
      "cell_type": "code",
      "source": [
        "a = {1, 2, 3, 11, 15}\n",
        "a.symmetric_difference_update(b)\n",
        "print(a, b)"
      ],
      "metadata": {
        "colab": {
          "base_uri": "https://localhost:8080/"
        },
        "id": "JumP_GgC_7y-",
        "outputId": "05e577b8-949b-4758-c5e9-78d2f85295dd"
      },
      "execution_count": null,
      "outputs": [
        {
          "output_type": "stream",
          "name": "stdout",
          "text": [
            "{4, 5, 6, 7, 8, 9, 10, 11, 15} {1, 2, 3, 4, 5, 6, 7, 8, 9, 10}\n"
          ]
        }
      ]
    },
    {
      "cell_type": "code",
      "source": [
        "print(a)\n",
        "a.discard(15)\n",
        "print(a)"
      ],
      "metadata": {
        "colab": {
          "base_uri": "https://localhost:8080/"
        },
        "id": "na5yxJejAZVF",
        "outputId": "4fea4cb7-1030-46e8-d9a4-2e968ff38c4f"
      },
      "execution_count": null,
      "outputs": [
        {
          "output_type": "stream",
          "name": "stdout",
          "text": [
            "{4, 5, 6, 7, 8, 9, 10, 11, 15}\n",
            "{4, 5, 6, 7, 8, 9, 10, 11}\n"
          ]
        }
      ]
    },
    {
      "cell_type": "code",
      "source": [
        "print(a)\n",
        "a.discard(20)"
      ],
      "metadata": {
        "id": "zOvNLk_X7Ps9",
        "outputId": "da8f8518-21d2-4fec-b41f-912993e10de7",
        "colab": {
          "base_uri": "https://localhost:8080/"
        }
      },
      "execution_count": null,
      "outputs": [
        {
          "output_type": "stream",
          "name": "stdout",
          "text": [
            "{4, 5, 6, 7, 8, 9, 10, 11}\n"
          ]
        }
      ]
    }
  ]
}