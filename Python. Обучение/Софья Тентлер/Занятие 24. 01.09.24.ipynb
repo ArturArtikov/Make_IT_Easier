{
 "cells": [
  {
   "cell_type": "markdown",
   "metadata": {},
   "source": [
    "## Работа с модулем OS"
   ]
  },
  {
   "cell_type": "markdown",
   "metadata": {},
   "source": [
    "Модуль os предоставляет множество функций для работы с операционной системой, причём их поведение, как правило, не зависит от ОС, поэтому программы остаются переносимыми. "
   ]
  },
  {
   "cell_type": "code",
   "execution_count": 4,
   "metadata": {},
   "outputs": [],
   "source": [
    "import os"
   ]
  },
  {
   "cell_type": "markdown",
   "metadata": {},
   "source": [
    "__Вывод текущего каталога файла__\n",
    "```python\n",
    "print(os.getcwd())\n",
    "```"
   ]
  },
  {
   "cell_type": "code",
   "execution_count": 5,
   "metadata": {},
   "outputs": [
    {
     "name": "stdout",
     "output_type": "stream",
     "text": [
      "/Users/arturartikov/Documents\n"
     ]
    }
   ],
   "source": [
    "print(os.getcwd())"
   ]
  },
  {
   "cell_type": "markdown",
   "metadata": {},
   "source": [
    "__Вывод всех файлов, находящихся в каталоге__\n",
    "```python\n",
    "print(os.listdir())\n",
    "```"
   ]
  },
  {
   "cell_type": "code",
   "execution_count": 7,
   "metadata": {},
   "outputs": [
    {
     "name": "stdout",
     "output_type": "stream",
     "text": [
      "['.DS_Store', '.localized', 'Занятие 24. 01.09.24.ipynb', 'matching_object']\n",
      "['make_submission.py', '.DS_Store', 'requirements.txt', 'baseline.py', 'compute_score.py', 'Dockerfile', 'baseline.pkl', 'read.ipynb', 'README.md', '.dockerignore', '.gitignore', '.venv', 'data', 'entrypoint.sh', 'vectorizer.pkl']\n"
     ]
    }
   ],
   "source": [
    "print(os.listdir())\n",
    "\n",
    "print(os.listdir('/Users/arturartikov/Documents/matching_object'))"
   ]
  },
  {
   "cell_type": "markdown",
   "metadata": {},
   "source": [
    "__Создание локальной директории__\n",
    "\n",
    "```python\n",
    "path = 'files/new_directory'\n",
    "os.mkdir(path)\n",
    "```"
   ]
  },
  {
   "cell_type": "code",
   "execution_count": 13,
   "metadata": {},
   "outputs": [
    {
     "name": "stdout",
     "output_type": "stream",
     "text": [
      "['New Foldes', '.DS_Store', '.localized', 'Занятие 24. 01.09.24.ipynb', 'Example Folder', 'matching_object']\n"
     ]
    }
   ],
   "source": [
    "os.mkdir('/Users/arturartikov/Documents/Example Folder')\n",
    "print(os.listdir())"
   ]
  },
  {
   "cell_type": "markdown",
   "metadata": {},
   "source": [
    "__Переименовывание локальной директории__\n",
    "```python\n",
    "dir = 'files/directory'\n",
    "old_path = os.path.join(dir, 'Example Folder')\n",
    "new_path = os.path.join(dir, 'New Foldes')\n",
    "\n",
    "print(os.listdir(dir))\n",
    "\n",
    "os.rename(old_path, new_path)\n",
    "\n",
    "print(os.listdir(dir))\n",
    "```"
   ]
  },
  {
   "cell_type": "code",
   "execution_count": 14,
   "metadata": {},
   "outputs": [
    {
     "name": "stdout",
     "output_type": "stream",
     "text": [
      "['.DS_Store', '.localized', 'Занятие 24. 01.09.24.ipynb', 'Example Folder', 'matching_object']\n",
      "['New Folder', '.DS_Store', '.localized', 'Занятие 24. 01.09.24.ipynb', 'matching_object']\n"
     ]
    }
   ],
   "source": [
    "dir = '/Users/arturartikov/Documents'\n",
    "old_path = os.path.join(dir, 'Example Folder')\n",
    "new_path = os.path.join(dir, 'New Folder')\n",
    "\n",
    "print(os.listdir(dir))\n",
    "\n",
    "os.rename(old_path, new_path)\n",
    "\n",
    "print(os.listdir(dir))"
   ]
  },
  {
   "cell_type": "markdown",
   "metadata": {},
   "source": [
    "__Удаление пустых директорий__\n",
    "```python\n",
    "dir = 'files/directory'\n",
    "print(os.listdir(dir))\n",
    "\n",
    "os.rmdir(dir+'/'+'New Folder')\n",
    "\n",
    "print(os.listdir(dir))\n",
    "```"
   ]
  },
  {
   "cell_type": "code",
   "execution_count": 15,
   "metadata": {},
   "outputs": [
    {
     "name": "stdout",
     "output_type": "stream",
     "text": [
      "['New Folder', '.DS_Store', '.localized', 'Занятие 24. 01.09.24.ipynb', 'matching_object']\n",
      "['.DS_Store', '.localized', 'Занятие 24. 01.09.24.ipynb', 'matching_object']\n"
     ]
    }
   ],
   "source": [
    "dir = '/Users/arturartikov/Documents'\n",
    "print(os.listdir(dir))\n",
    "\n",
    "os.rmdir(dir+'/'+'New Folder')\n",
    "\n",
    "print(os.listdir(dir))"
   ]
  },
  {
   "cell_type": "markdown",
   "metadata": {},
   "source": [
    "__Вывод названия системы__\n",
    "```python\n",
    "print(os.name)\n",
    "```"
   ]
  },
  {
   "cell_type": "code",
   "execution_count": 3,
   "metadata": {},
   "outputs": [
    {
     "name": "stdout",
     "output_type": "stream",
     "text": [
      "posix\n"
     ]
    }
   ],
   "source": [
    "print(os.name)"
   ]
  },
  {
   "cell_type": "markdown",
   "metadata": {},
   "source": [
    "__Вывод подробной информации об ОС__\n",
    "\n",
    "```python\n",
    "print(os.uname())\n",
    "```\n",
    "\n",
    "Проявляющиеся атрибуты:\n",
    "* sysname - имя операционной системы\n",
    "* nodename - имя машины в сети (определяется реализацией)\n",
    "* release - релиз\n",
    "* version - версия\n",
    "* machine - идентификатор машины\n"
   ]
  },
  {
   "cell_type": "code",
   "execution_count": 16,
   "metadata": {},
   "outputs": [
    {
     "name": "stdout",
     "output_type": "stream",
     "text": [
      "posix.uname_result(sysname='Darwin', nodename='MacBook-Air-Artur.local', release='23.6.0', version='Darwin Kernel Version 23.6.0: Mon Jul 29 21:14:21 PDT 2024; root:xnu-10063.141.2~1/RELEASE_ARM64_T8103', machine='arm64')\n"
     ]
    }
   ],
   "source": [
    "print(os.uname())"
   ]
  },
  {
   "cell_type": "markdown",
   "metadata": {},
   "source": [
    "__Имя текущего пользователя, вошедшего в систему__\n",
    "\n",
    "```python\n",
    "\n",
    "print(os.getlogin())\n",
    "\n",
    "```"
   ]
  },
  {
   "cell_type": "code",
   "execution_count": 17,
   "metadata": {},
   "outputs": [
    {
     "name": "stdout",
     "output_type": "stream",
     "text": [
      "root\n"
     ]
    }
   ],
   "source": [
    "print(os.getlogin())"
   ]
  }
 ],
 "metadata": {
  "kernelspec": {
   "display_name": "Python 3",
   "language": "python",
   "name": "python3"
  },
  "language_info": {
   "codemirror_mode": {
    "name": "ipython",
    "version": 3
   },
   "file_extension": ".py",
   "mimetype": "text/x-python",
   "name": "python",
   "nbconvert_exporter": "python",
   "pygments_lexer": "ipython3",
   "version": "3.12.4"
  }
 },
 "nbformat": 4,
 "nbformat_minor": 2
}
